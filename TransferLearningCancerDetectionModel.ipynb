{
 "cells": [
  {
   "cell_type": "code",
   "execution_count": 1,
   "metadata": {},
   "outputs": [],
   "source": [
    "import random\n",
    "import numpy\n",
    "import tensorflow\n",
    "import keras\n",
    "\n",
    "from keras.preprocessing.image           import ImageDataGenerator\n",
    "from tensorflow.keras.applications.vgg16 import VGG16"
   ]
  },
  {
   "cell_type": "code",
   "execution_count": 2,
   "metadata": {},
   "outputs": [
    {
     "name": "stdout",
     "output_type": "stream",
     "text": [
      "Found 3283 images belonging to 2 classes.\n",
      "Found 819 images belonging to 2 classes.\n"
     ]
    }
   ],
   "source": [
    "main_dir       = \"BrainTumorDataSet\"\n",
    "data_generator = ImageDataGenerator(validation_split = 0.2)\n",
    "\n",
    "image_width  = 128\n",
    "image_height = 128\n",
    "\n",
    "train_dataset = data_generator.flow_from_directory(main_dir, \n",
    "                                                   target_size = (image_width, image_height),\n",
    "                                                   batch_size = 256,\n",
    "                                                   class_mode = \"binary\",\n",
    "                                                   color_mode = \"rgb\",\n",
    "                                                   shuffle = True,\n",
    "                                                   seed = 57,\n",
    "                                                   subset = \"training\")\n",
    "\n",
    "test_dataset = data_generator.flow_from_directory(main_dir,\n",
    "                                                  target_size = (image_width, image_height),\n",
    "                                                  batch_size = 256,\n",
    "                                                  class_mode = \"binary\",\n",
    "                                                  color_mode = \"rgb\",\n",
    "                                                  shuffle = True,\n",
    "                                                  seed = 57,\n",
    "                                                  subset = \"validation\")"
   ]
  },
  {
   "cell_type": "code",
   "execution_count": 3,
   "metadata": {},
   "outputs": [
    {
     "name": "stdout",
     "output_type": "stream",
     "text": [
      "Model: \"sequential\"\n",
      "_________________________________________________________________\n",
      " Layer (type)                Output Shape              Param #   \n",
      "=================================================================\n",
      " vgg16 (Functional)          (None, 4, 4, 512)         14714688  \n",
      "                                                                 \n",
      " flatten (Flatten)           (None, 8192)              0         \n",
      "                                                                 \n",
      " dropout (Dropout)           (None, 8192)              0         \n",
      "                                                                 \n",
      " dense (Dense)               (None, 1)                 8193      \n",
      "                                                                 \n",
      "=================================================================\n",
      "Total params: 14,722,881\n",
      "Trainable params: 8,193\n",
      "Non-trainable params: 14,714,688\n",
      "_________________________________________________________________\n"
     ]
    }
   ],
   "source": [
    "base_model = VGG16(weights = 'imagenet', include_top = False, input_shape = (image_height, image_width, 3))\n",
    "base_model.trainable = False\n",
    "\n",
    "model = keras.Sequential()\n",
    "\n",
    "model.add(base_model)\n",
    "model.add(keras.layers.Flatten())\n",
    "model.add(keras.layers.Dropout(rate = 0.3))\n",
    "model.add(keras.layers.Dense(1, activation = 'sigmoid'))\n",
    "\n",
    "model.summary()"
   ]
  },
  {
   "cell_type": "code",
   "execution_count": 4,
   "metadata": {},
   "outputs": [
    {
     "name": "stdout",
     "output_type": "stream",
     "text": [
      "Epoch 1/10\n",
      "13/13 [==============================] - 166s 13s/step - loss: 2.8351 - accuracy: 0.7201\n",
      "Epoch 2/10\n",
      "13/13 [==============================] - 201s 15s/step - loss: 1.2731 - accuracy: 0.8492\n",
      "Epoch 3/10\n",
      "13/13 [==============================] - 191s 15s/step - loss: 0.7586 - accuracy: 0.8983\n",
      "Epoch 4/10\n",
      "13/13 [==============================] - 209s 16s/step - loss: 0.5538 - accuracy: 0.9126\n",
      "Epoch 5/10\n",
      "13/13 [==============================] - 230s 18s/step - loss: 0.4069 - accuracy: 0.9235\n",
      "Epoch 6/10\n",
      "13/13 [==============================] - 233s 18s/step - loss: 0.3842 - accuracy: 0.9360\n",
      "Epoch 7/10\n",
      "13/13 [==============================] - 286s 22s/step - loss: 0.3261 - accuracy: 0.9443\n",
      "Epoch 8/10\n",
      "13/13 [==============================] - 289s 22s/step - loss: 0.2558 - accuracy: 0.9519\n",
      "Epoch 9/10\n",
      "13/13 [==============================] - 289s 22s/step - loss: 0.1952 - accuracy: 0.9583\n",
      "Epoch 10/10\n",
      "13/13 [==============================] - 273s 21s/step - loss: 0.1621 - accuracy: 0.9625\n"
     ]
    }
   ],
   "source": [
    "model.compile(optimizer = \"adam\", loss = \"binary_crossentropy\", metrics = [\"accuracy\"])\n",
    "history = model.fit(train_dataset, epochs = 10)"
   ]
  },
  {
   "cell_type": "code",
   "execution_count": 5,
   "metadata": {},
   "outputs": [],
   "source": [
    "model.save('TransferLearningCancerDetectionModel.h5')"
   ]
  },
  {
   "cell_type": "code",
   "execution_count": 6,
   "metadata": {},
   "outputs": [
    {
     "name": "stdout",
     "output_type": "stream",
     "text": [
      "4/4 [==============================] - 58s 13s/step - loss: 0.2465 - accuracy: 0.9609\n",
      "Accuaracy on test dataset:  0.9609279632568359\n"
     ]
    }
   ],
   "source": [
    "score = model.evaluate(test_dataset)\n",
    "print('Accuaracy on test dataset: ', score[1])"
   ]
  }
 ],
 "metadata": {
  "kernelspec": {
   "display_name": "Python 3",
   "language": "python",
   "name": "python3"
  },
  "language_info": {
   "codemirror_mode": {
    "name": "ipython",
    "version": 3
   },
   "file_extension": ".py",
   "mimetype": "text/x-python",
   "name": "python",
   "nbconvert_exporter": "python",
   "pygments_lexer": "ipython3",
   "version": "3.8.10"
  },
  "orig_nbformat": 4,
  "vscode": {
   "interpreter": {
    "hash": "916dbcbb3f70747c44a77c7bcd40155683ae19c65e1c03b4aa3499c5328201f1"
   }
  }
 },
 "nbformat": 4,
 "nbformat_minor": 2
}
