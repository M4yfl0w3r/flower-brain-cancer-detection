{
 "cells": [
  {
   "cell_type": "code",
   "execution_count": 1,
   "id": "9c35503e",
   "metadata": {},
   "outputs": [],
   "source": [
    "import torch\n",
    "from torchvision import datasets, transforms\n",
    "\n"
   ]
  }
 ],
 "metadata": {
  "kernelspec": {
   "display_name": "Python 3",
   "language": "python",
   "name": "python3"
  },
  "language_info": {
   "codemirror_mode": {
    "name": "ipython",
    "version": 3
   },
   "file_extension": ".py",
   "mimetype": "text/x-python",
   "name": "python",
   "nbconvert_exporter": "python",
   "pygments_lexer": "ipython3",
   "version": "3.8.10"
  },
  "vscode": {
   "interpreter": {
    "hash": "cfaf1ee74b5378114f33f064cc9513c0b0a3a503f383f8342b4fe65f96fafeb0"
   }
  }
 },
 "nbformat": 4,
 "nbformat_minor": 5
}
